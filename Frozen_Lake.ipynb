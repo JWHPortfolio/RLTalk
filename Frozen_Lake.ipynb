{
  "cells": [
    {
      "cell_type": "code",
      "execution_count": 1,
      "metadata": {
        "id": "U_GkGdAW6To2"
      },
      "outputs": [],
      "source": [
        "import numpy as np\n",
        "import gym # pip intall gym\n",
        "import random"
      ]
    },
    {
      "cell_type": "code",
      "execution_count": 2,
      "metadata": {
        "colab": {
          "base_uri": "https://localhost:8080/"
        },
        "id": "luJ2UFku6To4",
        "outputId": "38c805d4-324c-492e-b227-40e3195920bd"
      },
      "outputs": [
        {
          "output_type": "stream",
          "name": "stderr",
          "text": [
            "/usr/local/lib/python3.10/dist-packages/gym/core.py:317: DeprecationWarning: \u001b[33mWARN: Initializing wrapper in old step API which returns one bool instead of two. It is recommended to set `new_step_api=True` to use new step API. This will be the default behaviour in future.\u001b[0m\n",
            "  deprecation(\n",
            "/usr/local/lib/python3.10/dist-packages/gym/wrappers/step_api_compatibility.py:39: DeprecationWarning: \u001b[33mWARN: Initializing environment in old step API which returns one bool instead of two. It is recommended to set `new_step_api=True` to use new step API. This will be the default behaviour in future.\u001b[0m\n",
            "  deprecation(\n"
          ]
        }
      ],
      "source": [
        "env = gym.make('FrozenLake-v1', is_slippery = False)"
      ]
    },
    {
      "cell_type": "markdown",
      "source": [
        "Number of actions"
      ],
      "metadata": {
        "id": "kxz8Knlohf-W"
      }
    },
    {
      "cell_type": "code",
      "source": [
        "env.action_space.n"
      ],
      "metadata": {
        "colab": {
          "base_uri": "https://localhost:8080/"
        },
        "id": "_7iNc711hWlA",
        "outputId": "32fd7dd2-17c0-480e-b74f-ecce0500cafa"
      },
      "execution_count": 3,
      "outputs": [
        {
          "output_type": "execute_result",
          "data": {
            "text/plain": [
              "4"
            ]
          },
          "metadata": {},
          "execution_count": 3
        }
      ]
    },
    {
      "cell_type": "markdown",
      "source": [
        "Number of Observations Spaces"
      ],
      "metadata": {
        "id": "Caocjvqghuyf"
      }
    },
    {
      "cell_type": "code",
      "source": [
        "env.observation_space.n"
      ],
      "metadata": {
        "colab": {
          "base_uri": "https://localhost:8080/"
        },
        "id": "mQoKou9yh3Sm",
        "outputId": "0b70a0ce-f9b4-4291-927a-480f0be5b328"
      },
      "execution_count": 4,
      "outputs": [
        {
          "output_type": "execute_result",
          "data": {
            "text/plain": [
              "16"
            ]
          },
          "metadata": {},
          "execution_count": 4
        }
      ]
    },
    {
      "cell_type": "code",
      "execution_count": 5,
      "metadata": {
        "colab": {
          "base_uri": "https://localhost:8080/"
        },
        "id": "-fhmq-ZU6To5",
        "outputId": "b901fbc8-b17f-42e9-e5c4-867016a567b2"
      },
      "outputs": [
        {
          "output_type": "stream",
          "name": "stdout",
          "text": [
            "Q Table\n",
            " [[0. 0. 0. 0.]\n",
            " [0. 0. 0. 0.]\n",
            " [0. 0. 0. 0.]\n",
            " [0. 0. 0. 0.]\n",
            " [0. 0. 0. 0.]\n",
            " [0. 0. 0. 0.]\n",
            " [0. 0. 0. 0.]\n",
            " [0. 0. 0. 0.]\n",
            " [0. 0. 0. 0.]\n",
            " [0. 0. 0. 0.]\n",
            " [0. 0. 0. 0.]\n",
            " [0. 0. 0. 0.]\n",
            " [0. 0. 0. 0.]\n",
            " [0. 0. 0. 0.]\n",
            " [0. 0. 0. 0.]\n",
            " [0. 0. 0. 0.]]\n"
          ]
        }
      ],
      "source": [
        "action_space_size = env.action_space.n\n",
        "state_space_size = env.observation_space.n\n",
        "\n",
        "qtable = np.zeros((state_space_size, action_space_size))\n",
        "print(\"Q Table\\n\",qtable)"
      ]
    },
    {
      "cell_type": "code",
      "execution_count": 6,
      "metadata": {
        "id": "v-bAtpgY6To6"
      },
      "outputs": [],
      "source": [
        "total_episodes = 10000\n",
        "learning_rate = 0.2\n",
        "max_steps = 100\n",
        "gamma = 0.99\n",
        "\n",
        "epsilon = 1\n",
        "max_epsilon = 1\n",
        "min_epsilon = 0.01\n",
        "decay_rate = 0.001"
      ]
    },
    {
      "cell_type": "code",
      "execution_count": 7,
      "metadata": {
        "colab": {
          "base_uri": "https://localhost:8080/"
        },
        "id": "--ZjAGVg6To6",
        "outputId": "0cc9f1d3-d6ea-4b29-ca38-5ed810a85a32"
      },
      "outputs": [
        {
          "output_type": "stream",
          "name": "stdout",
          "text": [
            "Score: 0.8755  Reaches the goal this % of times\n",
            "[[9.41480149e-01 9.50990050e-01 9.32065348e-01 9.41480149e-01]\n",
            " [9.41480149e-01 0.00000000e+00 9.25718270e-01 9.28701466e-01]\n",
            " [4.69436649e-01 9.68772394e-01 1.44688840e-01 1.11792447e-01]\n",
            " [4.16914219e-01 0.00000000e+00 1.67864579e-02 7.74098631e-04]\n",
            " [9.50990050e-01 9.60596010e-01 0.00000000e+00 9.41480149e-01]\n",
            " [0.00000000e+00 0.00000000e+00 0.00000000e+00 0.00000000e+00]\n",
            " [0.00000000e+00 9.80100000e-01 0.00000000e+00 8.46213482e-01]\n",
            " [0.00000000e+00 0.00000000e+00 0.00000000e+00 0.00000000e+00]\n",
            " [9.60596010e-01 0.00000000e+00 9.70299000e-01 9.50990050e-01]\n",
            " [9.60596010e-01 9.80100000e-01 9.80100000e-01 0.00000000e+00]\n",
            " [9.70299000e-01 9.90000000e-01 0.00000000e+00 9.70299000e-01]\n",
            " [0.00000000e+00 0.00000000e+00 0.00000000e+00 0.00000000e+00]\n",
            " [0.00000000e+00 0.00000000e+00 0.00000000e+00 0.00000000e+00]\n",
            " [0.00000000e+00 9.78410150e-01 9.90000000e-01 9.63837064e-01]\n",
            " [9.80100000e-01 9.90000000e-01 1.00000000e+00 9.80100000e-01]\n",
            " [0.00000000e+00 0.00000000e+00 0.00000000e+00 0.00000000e+00]]\n"
          ]
        }
      ],
      "source": [
        "rewards = []\n",
        "\n",
        "for episode in range(total_episodes):\n",
        "    state = env.reset()\n",
        "    step = 0\n",
        "    done = False\n",
        "    total_rewards = 0\n",
        "    for step in range(max_steps):\n",
        "\n",
        "        if random.uniform(0,1) > epsilon:\n",
        "            action = np.argmax(qtable[state,:]) # Exploit\n",
        "        else:\n",
        "            action = env.action_space.sample() # Explore\n",
        "\n",
        "        new_state, reward, done, info = env.step(action)\n",
        "\n",
        "        max_new_state = np.max(qtable[new_state,:])\n",
        "\n",
        "        qtable[state,action] = qtable[state,action] + learning_rate*(reward+gamma*max_new_state-qtable[state,action])\n",
        "        total_rewards += reward\n",
        "\n",
        "        state = new_state\n",
        "        if done:\n",
        "            break\n",
        "\n",
        "    epsilon = min_epsilon + (max_epsilon - min_epsilon)*np.exp(-decay_rate*episode)\n",
        "    rewards.append(total_rewards)\n",
        "\n",
        "print(\"Score:\", str(sum(rewards)/total_episodes), \" Reaches the goal this % of times\")\n",
        "print(qtable)"
      ]
    },
    {
      "cell_type": "code",
      "execution_count": 8,
      "metadata": {
        "colab": {
          "base_uri": "https://localhost:8080/"
        },
        "id": "8rhfCWUB6To7",
        "outputId": "fda1e0ba-bb07-4d4d-822c-d31c57bbddf1"
      },
      "outputs": [
        {
          "output_type": "stream",
          "name": "stdout",
          "text": [
            "Episode: 1\n"
          ]
        },
        {
          "output_type": "stream",
          "name": "stderr",
          "text": [
            "/usr/local/lib/python3.10/dist-packages/gym/core.py:49: DeprecationWarning: \u001b[33mWARN: You are calling render method, but you didn't specified the argument render_mode at environment initialization. To maintain backward compatibility, the environment will render in human mode.\n",
            "If you want to render in human mode, initialize the environment in this way: gym.make('EnvName', render_mode='human') and don't call the render method.\n",
            "See here for more information: https://www.gymlibrary.ml/content/api/\u001b[0m\n",
            "  deprecation(\n"
          ]
        },
        {
          "output_type": "stream",
          "name": "stdout",
          "text": [
            "Number of Steps: 5\n"
          ]
        }
      ],
      "source": [
        "env.reset()\n",
        "\n",
        "for episode in range(1):\n",
        "    state = env.reset()\n",
        "    step = 0\n",
        "    done = False\n",
        "\n",
        "    print(\"Episode:\", episode+1)\n",
        "\n",
        "    for step in range(max_steps):\n",
        "        action = np.argmax(qtable[state,:])\n",
        "        new_state, reward, done, info = env.step(action)\n",
        "        env.render()\n",
        "        if done:\n",
        "\n",
        "            print(\"Number of Steps:\", step)\n",
        "            break\n",
        "        state = new_state\n",
        "\n",
        "env.close()\n",
        ""
      ]
    },
    {
      "cell_type": "code",
      "execution_count": null,
      "metadata": {
        "id": "Vnk9F3FD6To8"
      },
      "outputs": [],
      "source": []
    },
    {
      "cell_type": "code",
      "execution_count": null,
      "metadata": {
        "id": "TaM03zdo6To8"
      },
      "outputs": [],
      "source": []
    },
    {
      "cell_type": "code",
      "execution_count": null,
      "metadata": {
        "id": "i_ZEbDuh6To8"
      },
      "outputs": [],
      "source": []
    },
    {
      "cell_type": "code",
      "execution_count": null,
      "metadata": {
        "id": "Sim_zHt96To8"
      },
      "outputs": [],
      "source": []
    }
  ],
  "metadata": {
    "kernelspec": {
      "display_name": "Python 3",
      "language": "python",
      "name": "python3"
    },
    "language_info": {
      "codemirror_mode": {
        "name": "ipython",
        "version": 3
      },
      "file_extension": ".py",
      "mimetype": "text/x-python",
      "name": "python",
      "nbconvert_exporter": "python",
      "pygments_lexer": "ipython3",
      "version": "3.8.3"
    },
    "colab": {
      "provenance": []
    }
  },
  "nbformat": 4,
  "nbformat_minor": 0
}